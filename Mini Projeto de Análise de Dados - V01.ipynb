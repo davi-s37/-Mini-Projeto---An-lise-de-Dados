{
 "cells": [
  {
   "cell_type": "markdown",
   "metadata": {},
   "source": [
    "#  Mini Projeto de Análise de Dados <br/>\n",
    "Este sucinto exercício foi proposto pelo curso **Python Impressionador, da Hashtag Cursos**. Ele tem como objetivo por em prática a biblioteca **pandas** e suas principais funções. <br/><br/> \n",
    "\n",
    "### Sobre as fontes   <br/>\n",
    "\n",
    "\n",
    " Foram fornecidos pelo professor dados de 2019 de uma empresa de prestação de serviços divididos em 3 planilhas, cujo tema está associado ao seu nome de arquivo, respectivamente: \n",
    "\n",
    "- CadastroFuncionarios.csv\n",
    "- CadastroClientes.csv\n",
    "- BaseServiçosPrestados.xlsx <br/><br/>\n",
    "\n",
    "### O que queremos saber/fazer? <br/>\n",
    "\n",
    "1. Qual o valor total da folha salarial? <br>    \n",
    "2. Qual foi o faturamento da empresa?<br>      \n",
    "3. Qual o % de funcionários que já fechou algum contrato?<br>     \n",
    "4. Qual o total de contratos que cada área da empresa já fechou?<br>\n",
    "5. Qual o total de funcionários por área ? <br>\n",
    "6. Qual o ticket médio mensal (faturamento médio mensal) dos contratos?<br/><br/>"
   ]
  },
  {
   "cell_type": "markdown",
   "metadata": {},
   "source": [
    "### Importação de bibliotecas e arquivos e tratamento de dados"
   ]
  },
  {
   "cell_type": "code",
   "execution_count": 6,
   "metadata": {},
   "outputs": [
    {
     "data": {
      "text/html": [
       "<div>\n",
       "<style scoped>\n",
       "    .dataframe tbody tr th:only-of-type {\n",
       "        vertical-align: middle;\n",
       "    }\n",
       "\n",
       "    .dataframe tbody tr th {\n",
       "        vertical-align: top;\n",
       "    }\n",
       "\n",
       "    .dataframe thead th {\n",
       "        text-align: right;\n",
       "    }\n",
       "</style>\n",
       "<table border=\"1\" class=\"dataframe\">\n",
       "  <thead>\n",
       "    <tr style=\"text-align: right;\">\n",
       "      <th></th>\n",
       "      <th>ID Funcionário</th>\n",
       "      <th>Nome Completo</th>\n",
       "      <th>Salario Base</th>\n",
       "      <th>Impostos</th>\n",
       "      <th>Beneficios</th>\n",
       "      <th>VT</th>\n",
       "      <th>VR</th>\n",
       "      <th>Area</th>\n",
       "    </tr>\n",
       "  </thead>\n",
       "  <tbody>\n",
       "    <tr>\n",
       "      <th>0</th>\n",
       "      <td>1</td>\n",
       "      <td>Gabriel Mesquita</td>\n",
       "      <td>21910</td>\n",
       "      <td>10955.0</td>\n",
       "      <td>4382.0</td>\n",
       "      <td>242</td>\n",
       "      <td>719.04</td>\n",
       "      <td>Operações</td>\n",
       "    </tr>\n",
       "    <tr>\n",
       "      <th>1</th>\n",
       "      <td>2</td>\n",
       "      <td>João Haddad</td>\n",
       "      <td>5404</td>\n",
       "      <td>2702.0</td>\n",
       "      <td>1080.8</td>\n",
       "      <td>154</td>\n",
       "      <td>574.56</td>\n",
       "      <td>Logística</td>\n",
       "    </tr>\n",
       "    <tr>\n",
       "      <th>2</th>\n",
       "      <td>3</td>\n",
       "      <td>Amanda Marques Ribeiro</td>\n",
       "      <td>16066</td>\n",
       "      <td>8033.0</td>\n",
       "      <td>3213.2</td>\n",
       "      <td>154</td>\n",
       "      <td>729.12</td>\n",
       "      <td>Administrativo</td>\n",
       "    </tr>\n",
       "    <tr>\n",
       "      <th>3</th>\n",
       "      <td>4</td>\n",
       "      <td>Guilherme Nunez</td>\n",
       "      <td>21305</td>\n",
       "      <td>10652.5</td>\n",
       "      <td>4261.0</td>\n",
       "      <td>220</td>\n",
       "      <td>524.16</td>\n",
       "      <td>Administrativo</td>\n",
       "    </tr>\n",
       "    <tr>\n",
       "      <th>4</th>\n",
       "      <td>5</td>\n",
       "      <td>Adelino Gomes</td>\n",
       "      <td>5098</td>\n",
       "      <td>2549.0</td>\n",
       "      <td>1019.6</td>\n",
       "      <td>176</td>\n",
       "      <td>725.76</td>\n",
       "      <td>Administrativo</td>\n",
       "    </tr>\n",
       "  </tbody>\n",
       "</table>\n",
       "</div>"
      ],
      "text/plain": [
       "   ID Funcionário           Nome Completo  Salario Base  Impostos  Beneficios  \\\n",
       "0               1        Gabriel Mesquita         21910   10955.0      4382.0   \n",
       "1               2             João Haddad          5404    2702.0      1080.8   \n",
       "2               3  Amanda Marques Ribeiro         16066    8033.0      3213.2   \n",
       "3               4         Guilherme Nunez         21305   10652.5      4261.0   \n",
       "4               5           Adelino Gomes          5098    2549.0      1019.6   \n",
       "\n",
       "    VT      VR            Area  \n",
       "0  242  719.04       Operações  \n",
       "1  154  574.56       Logística  \n",
       "2  154  729.12  Administrativo  \n",
       "3  220  524.16  Administrativo  \n",
       "4  176  725.76  Administrativo  "
      ]
     },
     "metadata": {},
     "output_type": "display_data"
    },
    {
     "data": {
      "text/html": [
       "<div>\n",
       "<style scoped>\n",
       "    .dataframe tbody tr th:only-of-type {\n",
       "        vertical-align: middle;\n",
       "    }\n",
       "\n",
       "    .dataframe tbody tr th {\n",
       "        vertical-align: top;\n",
       "    }\n",
       "\n",
       "    .dataframe thead th {\n",
       "        text-align: right;\n",
       "    }\n",
       "</style>\n",
       "<table border=\"1\" class=\"dataframe\">\n",
       "  <thead>\n",
       "    <tr style=\"text-align: right;\">\n",
       "      <th></th>\n",
       "      <th>ID Cliente</th>\n",
       "      <th>Cliente</th>\n",
       "      <th>Valor Contrato Mensal</th>\n",
       "    </tr>\n",
       "  </thead>\n",
       "  <tbody>\n",
       "    <tr>\n",
       "      <th>0</th>\n",
       "      <td>1</td>\n",
       "      <td>Teixeira Gonçalves</td>\n",
       "      <td>540</td>\n",
       "    </tr>\n",
       "    <tr>\n",
       "      <th>1</th>\n",
       "      <td>2</td>\n",
       "      <td>Souza Santos</td>\n",
       "      <td>1260</td>\n",
       "    </tr>\n",
       "    <tr>\n",
       "      <th>2</th>\n",
       "      <td>3</td>\n",
       "      <td>Emídio Alves</td>\n",
       "      <td>3195</td>\n",
       "    </tr>\n",
       "    <tr>\n",
       "      <th>3</th>\n",
       "      <td>4</td>\n",
       "      <td>Santos Costa</td>\n",
       "      <td>2520</td>\n",
       "    </tr>\n",
       "    <tr>\n",
       "      <th>4</th>\n",
       "      <td>5</td>\n",
       "      <td>Do Monteiro</td>\n",
       "      <td>3510</td>\n",
       "    </tr>\n",
       "  </tbody>\n",
       "</table>\n",
       "</div>"
      ],
      "text/plain": [
       "   ID Cliente             Cliente  Valor Contrato Mensal\n",
       "0           1  Teixeira Gonçalves                    540\n",
       "1           2        Souza Santos                   1260\n",
       "2           3        Emídio Alves                   3195\n",
       "3           4        Santos Costa                   2520\n",
       "4           5         Do Monteiro                   3510"
      ]
     },
     "metadata": {},
     "output_type": "display_data"
    },
    {
     "data": {
      "text/html": [
       "<div>\n",
       "<style scoped>\n",
       "    .dataframe tbody tr th:only-of-type {\n",
       "        vertical-align: middle;\n",
       "    }\n",
       "\n",
       "    .dataframe tbody tr th {\n",
       "        vertical-align: top;\n",
       "    }\n",
       "\n",
       "    .dataframe thead th {\n",
       "        text-align: right;\n",
       "    }\n",
       "</style>\n",
       "<table border=\"1\" class=\"dataframe\">\n",
       "  <thead>\n",
       "    <tr style=\"text-align: right;\">\n",
       "      <th></th>\n",
       "      <th>Codigo do Servico</th>\n",
       "      <th>ID Funcionário</th>\n",
       "      <th>ID Cliente</th>\n",
       "      <th>Tempo Total de Contrato (Meses)</th>\n",
       "    </tr>\n",
       "  </thead>\n",
       "  <tbody>\n",
       "    <tr>\n",
       "      <th>0</th>\n",
       "      <td>OS0001</td>\n",
       "      <td>67</td>\n",
       "      <td>1</td>\n",
       "      <td>14</td>\n",
       "    </tr>\n",
       "    <tr>\n",
       "      <th>1</th>\n",
       "      <td>OS0002</td>\n",
       "      <td>17</td>\n",
       "      <td>2</td>\n",
       "      <td>12</td>\n",
       "    </tr>\n",
       "    <tr>\n",
       "      <th>2</th>\n",
       "      <td>OS0003</td>\n",
       "      <td>116</td>\n",
       "      <td>4</td>\n",
       "      <td>14</td>\n",
       "    </tr>\n",
       "    <tr>\n",
       "      <th>3</th>\n",
       "      <td>OS0004</td>\n",
       "      <td>37</td>\n",
       "      <td>5</td>\n",
       "      <td>8</td>\n",
       "    </tr>\n",
       "    <tr>\n",
       "      <th>4</th>\n",
       "      <td>OS0005</td>\n",
       "      <td>130</td>\n",
       "      <td>6</td>\n",
       "      <td>8</td>\n",
       "    </tr>\n",
       "  </tbody>\n",
       "</table>\n",
       "</div>"
      ],
      "text/plain": [
       "  Codigo do Servico  ID Funcionário  ID Cliente  \\\n",
       "0            OS0001              67           1   \n",
       "1            OS0002              17           2   \n",
       "2            OS0003             116           4   \n",
       "3            OS0004              37           5   \n",
       "4            OS0005             130           6   \n",
       "\n",
       "   Tempo Total de Contrato (Meses)  \n",
       "0                               14  \n",
       "1                               12  \n",
       "2                               14  \n",
       "3                                8  \n",
       "4                                8  "
      ]
     },
     "metadata": {},
     "output_type": "display_data"
    }
   ],
   "source": [
    "#Iniciar importando a biblioteca e usando a função pd.read_extensao() para criar os DataFrames\n",
    "\n",
    "import pandas as pd\n",
    "\n",
    "CadastroFuncionarios_df = pd.read_csv('CadastroFuncionarios.csv', sep=';', decimal=',')\n",
    "CadastroClientes_df = pd.read_csv('CadastroClientes.csv', sep=';')\n",
    "BaseServicos_df = pd.read_excel('BaseServiçosPrestados.xlsx')\n",
    "\n",
    "#Remover colunas que não serão usadas no projeto; Axis = 1 é para informar a aplicação em colunas\n",
    "\n",
    "CadastroFuncionarios_df = CadastroFuncionarios_df.drop(['Estado Civil','Cargo'], axis = 1)\n",
    "\n",
    "#Display de cada uma dos DataFrames com o .head() para exibir apenas as 5 primeiras linhas\n",
    "\n",
    "display(CadastroFuncionarios_df.head())\n",
    "display(CadastroClientes_df.head())\n",
    "display(BaseServicos_df.head())"
   ]
  },
  {
   "cell_type": "markdown",
   "metadata": {},
   "source": [
    "### 1 -  Qual o valor total da folha salarial?"
   ]
  },
  {
   "cell_type": "code",
   "execution_count": 26,
   "metadata": {},
   "outputs": [
    {
     "name": "stdout",
     "output_type": "stream",
     "text": [
      "\n",
      "Resposta:\n",
      "O valor total da folha salarial é: R$2,717,493.22\n"
     ]
    }
   ],
   "source": [
    "# criar uma nova coluna que contem a soma de cada valor relevante no salário\n",
    "\n",
    "CadastroFuncionarios_df['Valor Total Salarial'] = (\n",
    "  CadastroFuncionarios_df['Salario Base'] \n",
    "+ CadastroFuncionarios_df['Impostos']\n",
    "+ CadastroFuncionarios_df['Beneficios'] \n",
    "+ CadastroFuncionarios_df['VT'] \n",
    "+ CadastroFuncionarios_df['VR'])\n",
    "\n",
    "#utilizar o método .sum() para obter a resposta a partir da nova coluna\n",
    "\n",
    "print('\\nResposta:')\n",
    "print('O valor total da folha salarial é: ' \n",
    "      'R${:,}'.format(sum(CadastroFuncionarios_df['Valor Total Salarial'])))"
   ]
  },
  {
   "cell_type": "markdown",
   "metadata": {},
   "source": [
    "### 2 - Qual foi o faturamento da empresa?"
   ]
  },
  {
   "cell_type": "code",
   "execution_count": 27,
   "metadata": {},
   "outputs": [
    {
     "data": {
      "text/html": [
       "<div>\n",
       "<style scoped>\n",
       "    .dataframe tbody tr th:only-of-type {\n",
       "        vertical-align: middle;\n",
       "    }\n",
       "\n",
       "    .dataframe tbody tr th {\n",
       "        vertical-align: top;\n",
       "    }\n",
       "\n",
       "    .dataframe thead th {\n",
       "        text-align: right;\n",
       "    }\n",
       "</style>\n",
       "<table border=\"1\" class=\"dataframe\">\n",
       "  <thead>\n",
       "    <tr style=\"text-align: right;\">\n",
       "      <th></th>\n",
       "      <th>ID Cliente</th>\n",
       "      <th>Tempo Total de Contrato (Meses)</th>\n",
       "      <th>Valor Contrato Mensal</th>\n",
       "      <th>Contrato x Tempo</th>\n",
       "    </tr>\n",
       "  </thead>\n",
       "  <tbody>\n",
       "    <tr>\n",
       "      <th>0</th>\n",
       "      <td>1</td>\n",
       "      <td>14</td>\n",
       "      <td>540</td>\n",
       "      <td>7560</td>\n",
       "    </tr>\n",
       "    <tr>\n",
       "      <th>1</th>\n",
       "      <td>2</td>\n",
       "      <td>12</td>\n",
       "      <td>1260</td>\n",
       "      <td>15120</td>\n",
       "    </tr>\n",
       "    <tr>\n",
       "      <th>2</th>\n",
       "      <td>4</td>\n",
       "      <td>14</td>\n",
       "      <td>2520</td>\n",
       "      <td>35280</td>\n",
       "    </tr>\n",
       "    <tr>\n",
       "      <th>3</th>\n",
       "      <td>5</td>\n",
       "      <td>8</td>\n",
       "      <td>3510</td>\n",
       "      <td>28080</td>\n",
       "    </tr>\n",
       "    <tr>\n",
       "      <th>4</th>\n",
       "      <td>6</td>\n",
       "      <td>8</td>\n",
       "      <td>2340</td>\n",
       "      <td>18720</td>\n",
       "    </tr>\n",
       "    <tr>\n",
       "      <th>...</th>\n",
       "      <td>...</td>\n",
       "      <td>...</td>\n",
       "      <td>...</td>\n",
       "      <td>...</td>\n",
       "    </tr>\n",
       "    <tr>\n",
       "      <th>232</th>\n",
       "      <td>315</td>\n",
       "      <td>4</td>\n",
       "      <td>1575</td>\n",
       "      <td>6300</td>\n",
       "    </tr>\n",
       "    <tr>\n",
       "      <th>233</th>\n",
       "      <td>316</td>\n",
       "      <td>8</td>\n",
       "      <td>3690</td>\n",
       "      <td>29520</td>\n",
       "    </tr>\n",
       "    <tr>\n",
       "      <th>234</th>\n",
       "      <td>317</td>\n",
       "      <td>6</td>\n",
       "      <td>2385</td>\n",
       "      <td>14310</td>\n",
       "    </tr>\n",
       "    <tr>\n",
       "      <th>235</th>\n",
       "      <td>319</td>\n",
       "      <td>14</td>\n",
       "      <td>4185</td>\n",
       "      <td>58590</td>\n",
       "    </tr>\n",
       "    <tr>\n",
       "      <th>236</th>\n",
       "      <td>320</td>\n",
       "      <td>12</td>\n",
       "      <td>2430</td>\n",
       "      <td>29160</td>\n",
       "    </tr>\n",
       "  </tbody>\n",
       "</table>\n",
       "<p>237 rows × 4 columns</p>\n",
       "</div>"
      ],
      "text/plain": [
       "     ID Cliente  Tempo Total de Contrato (Meses)  Valor Contrato Mensal  \\\n",
       "0             1                               14                    540   \n",
       "1             2                               12                   1260   \n",
       "2             4                               14                   2520   \n",
       "3             5                                8                   3510   \n",
       "4             6                                8                   2340   \n",
       "..          ...                              ...                    ...   \n",
       "232         315                                4                   1575   \n",
       "233         316                                8                   3690   \n",
       "234         317                                6                   2385   \n",
       "235         319                               14                   4185   \n",
       "236         320                               12                   2430   \n",
       "\n",
       "     Contrato x Tempo  \n",
       "0                7560  \n",
       "1               15120  \n",
       "2               35280  \n",
       "3               28080  \n",
       "4               18720  \n",
       "..                ...  \n",
       "232              6300  \n",
       "233             29520  \n",
       "234             14310  \n",
       "235             58590  \n",
       "236             29160  \n",
       "\n",
       "[237 rows x 4 columns]"
      ]
     },
     "metadata": {},
     "output_type": "display_data"
    },
    {
     "name": "stdout",
     "output_type": "stream",
     "text": [
      "\n",
      "Resposta:\n",
      "O valor total da faturamento é R$5,519,160\n"
     ]
    }
   ],
   "source": [
    "#Aqui utilizar o método .merge(), inserindo na tabela que contém os fatos uma tabela de caracterísitcas\n",
    "#Escrito assim, com a [[lista de colunas]], o merge terá apenas o que é relevante para a questão\n",
    "\n",
    "faturamento_df = BaseServicos_df[['ID Cliente','Tempo Total de Contrato (Meses)']].merge(\n",
    "    CadastroClientes_df[['ID Cliente','Valor Contrato Mensal']], on  = 'ID Cliente')\n",
    "\n",
    "#Utilizar de duas das colunas combinadas da nova tabela para o calculo de uma terceira\n",
    "\n",
    "faturamento_df['Contrato x Tempo'] = (\n",
    "faturamento_df['Valor Contrato Mensal'] \n",
    "* faturamento_df['Tempo Total de Contrato (Meses)']\n",
    ")\n",
    "\n",
    "display(faturamento_df)\n",
    "\n",
    "faturamento_total = faturamento_df['Contrato x Tempo'].sum()\n",
    "\n",
    "print('\\nResposta:')\n",
    "print(f'O valor total da faturamento é R${faturamento_total:,}')"
   ]
  },
  {
   "cell_type": "markdown",
   "metadata": {},
   "source": [
    "### 3 - Qual o % de funcionários que já fechou algum contrato?"
   ]
  },
  {
   "cell_type": "code",
   "execution_count": 28,
   "metadata": {},
   "outputs": [
    {
     "name": "stdout",
     "output_type": "stream",
     "text": [
      "\n",
      "Resposta:\n",
      "86.8% dos funcionários já fecharam contrato\n"
     ]
    }
   ],
   "source": [
    "#Aqui será necessário usar o método .unique() para filtrar ID's repetidas na base de serviços\n",
    "#Cada uma das entradas únicas corresponde a um contrato fechado\n",
    "#O método len() é útil para contar a quantidade de linhas, logo, de funcionários também.\n",
    "\n",
    "Funcionarios_total = len(CadastroFuncionarios_df['ID Funcionário'])\n",
    "Funcionarios_unicos = len(BaseServicos_df['ID Funcionário'].unique())\n",
    "\n",
    "#Comparar com a quantidade total de funcionários da empresa e imprimir a razão\n",
    "\n",
    "Percentual_contato_fechado = Funcionarios_unicos / Funcionarios_total\n",
    "\n",
    "print('\\nResposta:')\n",
    "print(f'{Percentual_contato_fechado:.1%} dos funcionários já fecharam contrato')"
   ]
  },
  {
   "cell_type": "markdown",
   "metadata": {},
   "source": [
    "### 4 - Qual o total de contratos que cada área da empresa já fechou?\n"
   ]
  },
  {
   "cell_type": "code",
   "execution_count": 30,
   "metadata": {},
   "outputs": [
    {
     "name": "stdout",
     "output_type": "stream",
     "text": [
      "\n",
      "Resposta:\n",
      "Administrativo    63\n",
      "Operações         48\n",
      "Comercial         44\n",
      "Financeiro        42\n",
      "Logística         40\n",
      "Name: Area, dtype: int64\n"
     ]
    },
    {
     "data": {
      "text/plain": [
       "<AxesSubplot:>"
      ]
     },
     "execution_count": 30,
     "metadata": {},
     "output_type": "execute_result"
    },
    {
     "data": {
      "image/png": "[encoded data removed]",
      "text/plain": [
       "<Figure size 400x400 with 1 Axes>"
      ]
     },
     "metadata": {},
     "output_type": "display_data"
    }
   ],
   "source": [
    "#Mergir apenas as colunas relevantes de Dataframes distintos, garantindo uma análise com dados factuais\n",
    "\n",
    "contratos_area_df = BaseServicos_df[['Codigo do Servico', 'ID Funcionário']].merge(\n",
    "    CadastroFuncionarios_df[['ID Funcionário','Area']], on  = 'ID Funcionário')\n",
    "\n",
    "#utilizar o método .value_counts() devolve uma contagem para cada categoria\n",
    "\n",
    "qtde_contratos_area = contratos_area_df['Area'].value_counts()\n",
    "print('\\nResposta:')\n",
    "print(qtde_contratos_area)\n",
    "\n",
    "#o método .plot irá gerar um gráfico do tipo e do tamanho discriminados nos argumentos\n",
    "\n",
    "qtde_contratos_area.plot(kind='bar', figsize=(4,4))"
   ]
  },
  {
   "cell_type": "markdown",
   "metadata": {},
   "source": [
    "### 5 - Qual o total de funcionários por área ?"
   ]
  },
  {
   "cell_type": "code",
   "execution_count": 31,
   "metadata": {},
   "outputs": [
    {
     "name": "stdout",
     "output_type": "stream",
     "text": [
      "\n",
      "Resposta:\n",
      "Administrativo    26\n",
      "Comercial         26\n",
      "Operações         23\n",
      "Logística         21\n",
      "Financeiro        18\n",
      "Name: Area, dtype: int64\n"
     ]
    },
    {
     "data": {
      "text/plain": [
       "<AxesSubplot:>"
      ]
     },
     "execution_count": 31,
     "metadata": {},
     "output_type": "execute_result"
    },
    {
     "data": {
      "image/png": "[encoded data removed]",
      "text/plain": [
       "<Figure size 400x400 with 1 Axes>"
      ]
     },
     "metadata": {},
     "output_type": "display_data"
    }
   ],
   "source": [
    "#Procedimento identico ao da questão anterior, porém sem a necessidade de combinar Dataframes\n",
    "\n",
    "qtde_funcionarios_area = CadastroFuncionarios_df['Area'].value_counts()\n",
    "print('\\nResposta:')\n",
    "print(qtde_funcionarios_area)\n",
    "qtde_funcionarios_area.plot(kind='bar', figsize=(4,4))"
   ]
  },
  {
   "cell_type": "markdown",
   "metadata": {},
   "source": [
    "### 6 - Qual o ticket médio mensal (faturamento médio mensal) dos contratos?"
   ]
  },
  {
   "cell_type": "code",
   "execution_count": 32,
   "metadata": {},
   "outputs": [
    {
     "name": "stdout",
     "output_type": "stream",
     "text": [
      "\n",
      "Resposta:\n",
      "O valor do ticket medio é de R$2,502.56\n"
     ]
    }
   ],
   "source": [
    "#Utilizar o método .mean() para obter a média de toda a coluna referente aos contratos mensais\n",
    "\n",
    "ticket_medio = CadastroClientes_df['Valor Contrato Mensal'].mean()\n",
    "print('\\nResposta:')\n",
    "print(f'O valor do ticket medio é de R${ticket_medio:,.2f}')"
   ]
  }
 ],
 "metadata": {
  "kernelspec": {
   "display_name": "Python 3 (ipykernel)",
   "language": "python",
   "name": "python3"
  },
  "language_info": {
   "codemirror_mode": {
    "name": "ipython",
    "version": 3
   },
   "file_extension": ".py",
   "mimetype": "text/x-python",
   "name": "python",
   "nbconvert_exporter": "python",
   "pygments_lexer": "ipython3",
   "version": "3.9.13"
  }
 },
 "nbformat": 4,
 "nbformat_minor": 4
}
